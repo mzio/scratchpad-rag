{
 "cells": [
  {
   "cell_type": "markdown",
   "id": "314dcabd-3bca-4158-aef2-8638ca4c77b0",
   "metadata": {},
   "source": [
    "# Dataset construction notebook\n",
    "\n",
    "Walking thru how we make scratchpad datasets given a sample RAG-like dataset. \n",
    "\n",
    "### Setup\n",
    "Typical finetuning question-answering datasets follow a template like:  \n",
    "```\n",
    "Context: [insert (long) context here which may have distracting or irrelevant parts]\n",
    "\n",
    "Question: What is X?\n",
    "\n",
    "Answer: X is blah\n",
    "```\n",
    "and train a model via next-token prediction, that way when faced with a new sample:\n",
    "```\n",
    "Context: [insert (long) context here which may have distracting or irrelevant parts]\n",
    "\n",
    "Question: What is Y?\n",
    "```\n",
    "the model is finetuned to output text (e.g., `Answer: Y is blah`) that answers the new question given the new context.\n",
    "\n",
    "However, this is prone to models being distracted by the irrelevant parts of the provided context. \n",
    "\n",
    "If we know what parts of the context are relevant in our training data, we'll  instead show how augmenting this dataset with a [\"scratchpad\"](https://arxiv.org/abs/2112.00114) can help models answer questions correctly. \n",
    "\n",
    "With the scratchpad template, our samples will look like\n",
    "```\n",
    "Context: [insert (long) context here which may have distracting or irrelevant parts]\n",
    "\n",
    "Question: What is X?\n",
    "\n",
    "Supporting context: [supporting chunk 1], [supporting chunk 2], ..\n",
    "\n",
    "Question: What is X?\n",
    "\n",
    "Answer: X is blah\n",
    "```\n",
    "such that upon given the same new sample above:\n",
    "```\n",
    "Context: [insert (long) context here which may have distracting or irrelevant parts]\n",
    "\n",
    "Question: What is Y?\n",
    "```\n",
    "\n",
    "the model may now output the full scratchpad + answer:\n",
    "```\n",
    "Supporting context: [supporting chunk 1], [supporting chunk 2], ..\n",
    "\n",
    "Question: What is Y?\n",
    "\n",
    "Answer: Y is blah\n",
    "```"
   ]
  },
  {
   "cell_type": "markdown",
   "id": "fc664e02-d933-44a9-bda8-547b97c3137f",
   "metadata": {},
   "source": [
    "We'll use Hotpot-QA as an example (specifically the distractor setting). We'll see that this already gives us the supporting chunks (which we'll need to do ourselves for other datasets potentially), and with these chunks, we can construct a \"scratchpad\" version of the dataset to use for training.\n",
    "\n",
    "Most of this should be pretty consistent + easy to apply for new datasets. The key thing will be figuring out how to construct chunks + identify the supporting chunks for datasets which don't come in Hotpot-QA's nice formatting (e.g., for SCROLLs datasets such as QAsper, it may just be the text)\n"
   ]
  },
  {
   "cell_type": "markdown",
   "id": "a1b5d526-158e-402a-bb05-fefd69d9af97",
   "metadata": {},
   "source": [
    "### Setup"
   ]
  },
  {
   "cell_type": "code",
   "execution_count": 1,
   "id": "e2d66e5c-ba1e-4fb0-9e08-b0951a2bcfcb",
   "metadata": {},
   "outputs": [],
   "source": [
    "import sys\n",
    "sys.path.append('../')  # get our imports"
   ]
  },
  {
   "cell_type": "code",
   "execution_count": 2,
   "id": "7a41f9d8-8173-4b15-855d-f62afdd29941",
   "metadata": {},
   "outputs": [],
   "source": [
    "from omegaconf import OmegaConf  # how we specify configs"
   ]
  },
  {
   "cell_type": "markdown",
   "id": "18e309ad-02dc-4199-9c07-1a40e0280016",
   "metadata": {},
   "source": [
    "### Load dataset config"
   ]
  },
  {
   "cell_type": "code",
   "execution_count": 3,
   "id": "bf7bd1e4-d798-45fc-a232-beff8745b8b0",
   "metadata": {},
   "outputs": [],
   "source": [
    "dataset_config = \"\"\"\n",
    "name: hotpot_qa\n",
    "dataset_config:\n",
    "  path: hotpot_qa\n",
    "  name: distractor\n",
    "  cache_dir: '/juice/scr/scr110/scr/nlp/data/hotpot-qa-hf'\n",
    "  seed: 42\n",
    "  num_train_samples: null\n",
    "  num_val_samples: null\n",
    "  include_support: false\n",
    "pretrained_model_config: \n",
    "  pretrained_model_name_or_path: 'mistralai/Mistral-7B-v0.1'\n",
    "  cache_dir: '/juice/scr/scr110/scr/nlp/data/neo/hub/'\n",
    "\"\"\"\n",
    "dataset_config = OmegaConf.create(dataset_config)"
   ]
  },
  {
   "cell_type": "code",
   "execution_count": 4,
   "id": "e1597958-4481-4e32-b07b-c1818a586105",
   "metadata": {},
   "outputs": [
    {
     "name": "stdout",
     "output_type": "stream",
     "text": [
      "{'name': 'hotpot_qa', 'dataset_config': {'path': 'hotpot_qa', 'name': 'distractor', 'cache_dir': '/juice/scr/scr110/scr/nlp/data/hotpot-qa-hf', 'seed': 42, 'num_train_samples': None, 'num_val_samples': None, 'include_support': False}, 'pretrained_model_config': {'pretrained_model_name_or_path': 'mistralai/Mistral-7B-v0.1', 'cache_dir': '/juice/scr/scr110/scr/nlp/data/neo/hub/'}}\n"
     ]
    }
   ],
   "source": [
    "print(OmegaConf.to_container(dataset_config))  # see as dict"
   ]
  },
  {
   "cell_type": "markdown",
   "id": "1c77235b-327d-48f4-9b97-339504653572",
   "metadata": {},
   "source": [
    "### Alternatively load from config file"
   ]
  },
  {
   "cell_type": "code",
   "execution_count": 5,
   "id": "305c47bd-e711-4ff7-b9b3-303e49d4fad3",
   "metadata": {},
   "outputs": [
    {
     "name": "stdout",
     "output_type": "stream",
     "text": [
      "{'name': 'hotpot_qa', 'dataset_config': {'path': 'hotpot_qa', 'name': 'distractor', 'cache_dir': '/juice/scr/scr110/scr/nlp/data/hotpot-qa-hf', 'seed': 42, 'num_train_samples': None, 'num_val_samples': None, 'include_support': False}, 'pretrained_model_config': {'pretrained_model_name_or_path': 'mistralai/Mistral-7B-v0.1', 'cache_dir': '/juice/scr/scr110/scr/nlp/data/neo/hub/'}, 'preprocess_config': None}\n"
     ]
    }
   ],
   "source": [
    "config_path = '../configs/experiment/hotpot_qa_distractor.yaml'\n",
    "dataset_config = OmegaConf.load(config_path).dataset\n",
    "print(OmegaConf.to_container(dataset_config))  # see as dict"
   ]
  },
  {
   "cell_type": "markdown",
   "id": "59fd50eb-9802-4032-a2aa-3ce72b961595",
   "metadata": {},
   "source": [
    "## Dataset construction"
   ]
  },
  {
   "cell_type": "markdown",
   "id": "7d70fe02-7e4b-4a31-a9d1-26b3a7faf703",
   "metadata": {},
   "source": [
    "#### Load raw data "
   ]
  },
  {
   "cell_type": "code",
   "execution_count": 6,
   "id": "f5635bf0-9da4-4c2a-8be9-b5dbde20f999",
   "metadata": {},
   "outputs": [
    {
     "name": "stderr",
     "output_type": "stream",
     "text": [
      "/nlp/scr/mzhang/miniconda3/envs/hedgehog/lib/python3.10/site-packages/tqdm/auto.py:21: TqdmWarning: IProgress not found. Please update jupyter and ipywidgets. See https://ipywidgets.readthedocs.io/en/stable/user_install.html\n",
      "  from .autonotebook import tqdm as notebook_tqdm\n"
     ]
    }
   ],
   "source": [
    "from datasets import load_dataset  # Huggingface datasets"
   ]
  },
  {
   "cell_type": "code",
   "execution_count": 7,
   "id": "c93e697d-944b-41c0-9db4-6219aec427b9",
   "metadata": {},
   "outputs": [],
   "source": [
    "dataset_kwargs = ['path', 'name', 'cache_dir']\n",
    "raw_datasets = load_dataset(\n",
    "    **{k: v for k, v in dataset_config.dataset_config.items() if k in dataset_kwargs})"
   ]
  },
  {
   "cell_type": "code",
   "execution_count": 8,
   "id": "f4acb18b-4f09-4497-807c-289af032d48d",
   "metadata": {},
   "outputs": [
    {
     "data": {
      "text/plain": [
       "dict_keys(['train', 'validation'])"
      ]
     },
     "execution_count": 8,
     "metadata": {},
     "output_type": "execute_result"
    }
   ],
   "source": [
    "# Can look at features and a sample\n",
    "raw_datasets.keys()"
   ]
  },
  {
   "cell_type": "code",
   "execution_count": 9,
   "id": "8835c020-f86c-4e94-8c45-dd1f18bbf1cd",
   "metadata": {},
   "outputs": [
    {
     "data": {
      "text/plain": [
       "Dataset({\n",
       "    features: ['id', 'question', 'answer', 'type', 'level', 'supporting_facts', 'context'],\n",
       "    num_rows: 90447\n",
       "})"
      ]
     },
     "execution_count": 9,
     "metadata": {},
     "output_type": "execute_result"
    }
   ],
   "source": [
    "raw_datasets['train']"
   ]
  },
  {
   "cell_type": "code",
   "execution_count": 10,
   "id": "74e46388-f6d6-4032-ab01-8aed450c09dd",
   "metadata": {
    "scrolled": true
   },
   "outputs": [
    {
     "data": {
      "text/plain": [
       "{'id': '5a7a06935542990198eaf050',\n",
       " 'question': \"Which magazine was started first Arthur's Magazine or First for Women?\",\n",
       " 'answer': \"Arthur's Magazine\",\n",
       " 'type': 'comparison',\n",
       " 'level': 'medium',\n",
       " 'supporting_facts': {'title': [\"Arthur's Magazine\", 'First for Women'],\n",
       "  'sent_id': [0, 0]},\n",
       " 'context': {'title': ['Radio City (Indian radio station)',\n",
       "   'History of Albanian football',\n",
       "   'Echosmith',\n",
       "   \"Women's colleges in the Southern United States\",\n",
       "   'First Arthur County Courthouse and Jail',\n",
       "   \"Arthur's Magazine\",\n",
       "   '2014–15 Ukrainian Hockey Championship',\n",
       "   'First for Women',\n",
       "   'Freeway Complex Fire',\n",
       "   'William Rast'],\n",
       "  'sentences': [[\"Radio City is India's first private FM radio station and was started on 3 July 2001.\",\n",
       "    ' It broadcasts on 91.1 (earlier 91.0 in most cities) megahertz from Mumbai (where it was started in 2004), Bengaluru (started first in 2001), Lucknow and New Delhi (since 2003).',\n",
       "    ' It plays Hindi, English and regional songs.',\n",
       "    ' It was launched in Hyderabad in March 2006, in Chennai on 7 July 2006 and in Visakhapatnam October 2007.',\n",
       "    ' Radio City recently forayed into New Media in May 2008 with the launch of a music portal - PlanetRadiocity.com that offers music related news, videos, songs, and other music-related features.',\n",
       "    ' The Radio station currently plays a mix of Hindi and Regional music.',\n",
       "    ' Abraham Thomas is the CEO of the company.'],\n",
       "   ['Football in Albania existed before the Albanian Football Federation (FSHF) was created.',\n",
       "    \" This was evidenced by the team's registration at the Balkan Cup tournament during 1929-1931, which started in 1929 (although Albania eventually had pressure from the teams because of competition, competition started first and was strong enough in the duels) .\",\n",
       "    ' Albanian National Team was founded on June 6, 1930, but Albania had to wait 16 years to play its first international match and then defeated Yugoslavia in 1946.',\n",
       "    ' In 1932, Albania joined FIFA (during the 12–16 June convention ) And in 1954 she was one of the founding members of UEFA.'],\n",
       "   ['Echosmith is an American, Corporate indie pop band formed in February 2009 in Chino, California.',\n",
       "    ' Originally formed as a quartet of siblings, the band currently consists of Sydney, Noah and Graham Sierota, following the departure of eldest sibling Jamie in late 2016.',\n",
       "    ' Echosmith started first as \"Ready Set Go!\"',\n",
       "    ' until they signed to Warner Bros.',\n",
       "    ' Records in May 2012.',\n",
       "    ' They are best known for their hit song \"Cool Kids\", which reached number 13 on the \"Billboard\" Hot 100 and was certified double platinum by the RIAA with over 1,200,000 sales in the United States and also double platinum by ARIA in Australia.',\n",
       "    ' The song was Warner Bros.',\n",
       "    \" Records' fifth-biggest-selling-digital song of 2014, with 1.3 million downloads sold.\",\n",
       "    ' The band\\'s debut album, \"Talking Dreams\", was released on October 8, 2013.'],\n",
       "   [\"Women's colleges in the Southern United States refers to undergraduate, bachelor's degree–granting institutions, often liberal arts colleges, whose student populations consist exclusively or almost exclusively of women, located in the Southern United States.\",\n",
       "    \" Many started first as girls' seminaries or academies.\",\n",
       "    ' Salem College is the oldest female educational institution in the South and Wesleyan College is the first that was established specifically as a college for women.',\n",
       "    ' Some schools, such as Mary Baldwin University and Salem College, offer coeducational courses at the graduate level.'],\n",
       "   ['The First Arthur County Courthouse and Jail, was perhaps the smallest court house in the United States, and serves now as a museum.'],\n",
       "   [\"Arthur's Magazine (1844–1846) was an American literary periodical published in Philadelphia in the 19th century.\",\n",
       "    ' Edited by T.S. Arthur, it featured work by Edgar A. Poe, J.H. Ingraham, Sarah Josepha Hale, Thomas G. Spear, and others.',\n",
       "    ' In May 1846 it was merged into \"Godey\\'s Lady\\'s Book\".'],\n",
       "   ['The 2014–15 Ukrainian Hockey Championship was the 23rd season of the Ukrainian Hockey Championship.',\n",
       "    ' Only four teams participated in the league this season, because of the instability in Ukraine and that most of the clubs had economical issues.',\n",
       "    ' Generals Kiev was the only team that participated in the league the previous season, and the season started first after the year-end of 2014.',\n",
       "    ' The regular season included just 12 rounds, where all the teams went to the semifinals.',\n",
       "    ' In the final, ATEK Kiev defeated the regular season winner HK Kremenchuk.'],\n",
       "   [\"First for Women is a woman's magazine published by Bauer Media Group in the USA.\",\n",
       "    ' The magazine was started in 1989.',\n",
       "    ' It is based in Englewood Cliffs, New Jersey.',\n",
       "    ' In 2011 the circulation of the magazine was 1,310,696 copies.'],\n",
       "   ['The Freeway Complex Fire was a 2008 wildfire in the Santa Ana Canyon area of Orange County, California.',\n",
       "    ' The fire started as two separate fires on November 15, 2008.',\n",
       "    ' The \"Freeway Fire\" started first shortly after 9am with the \"Landfill Fire\" igniting approximately 2 hours later.',\n",
       "    ' These two separate fires merged a day later and ultimately destroyed 314 residences in Anaheim Hills and Yorba Linda.'],\n",
       "   ['William Rast is an American clothing line founded by Justin Timberlake and Trace Ayala.',\n",
       "    ' It is most known for their premium jeans.',\n",
       "    ' On October 17, 2006, Justin Timberlake and Trace Ayala put on their first fashion show to launch their new William Rast clothing line.',\n",
       "    ' The label also produces other clothing items such as jackets and tops.',\n",
       "    ' The company started first as a denim line, later evolving into a men’s and women’s clothing line.']]}}"
      ]
     },
     "execution_count": 10,
     "metadata": {},
     "output_type": "execute_result"
    }
   ],
   "source": [
    "raw_datasets['train'][0]"
   ]
  },
  {
   "cell_type": "markdown",
   "id": "b9a98db8-d4bf-4f9d-80b3-47a0a3984d06",
   "metadata": {},
   "source": [
    "### Converting to text\n",
    "\n",
    "For Hotpot-QA, we'll need to convert the above dictionary into valid text prompts to feed into an LLM. We'll do so in two parts:  \n",
    "1. **Dictionary preprocessing**: we'll clean up the dictionary into a consistent format that we can share for all datasets\n",
    "2. **Prompt templating**: we'll take the cleaned dictionary and use it to populate a string as our prompt"
   ]
  },
  {
   "cell_type": "markdown",
   "id": "c7f37adf-e9bb-4c8f-815d-82d4949da700",
   "metadata": {},
   "source": [
    "### Dictionary preprocessing  \n",
    "\n",
    "We'll aim to get the above raw dictionary into a standardized format:\n",
    "```python\n",
    "sample = {\n",
    "    'question': sample['question'],\n",
    "    'answer': sample['answer'],\n",
    "    'context': context,\n",
    "    'support': support,\n",
    "    'support_indices': support_indices,\n",
    "}\n",
    "```\n",
    "We can do so with the following:"
   ]
  },
  {
   "cell_type": "code",
   "execution_count": 11,
   "id": "e35b6ec8-f56c-4708-b0b5-a7fc15d6b03c",
   "metadata": {},
   "outputs": [],
   "source": [
    "# from dataloaders.hotpot_qa.py\n",
    "\n",
    "def process_sample(sample: dict):\n",
    "    \"\"\"\n",
    "    Preprocess data into question, answer, full context, support\n",
    "    -> Include full paragraphs for supporting contexts\n",
    "    \"\"\"\n",
    "    support = []\n",
    "    context = []\n",
    "    support_indices = []  # Which result they showed up in\n",
    "\n",
    "    context_titles = sample['context']['title']\n",
    "    support_titles = sample['supporting_facts']['title']\n",
    "\n",
    "    context_sentences = sample['context']['sentences']\n",
    "    support_sent_ids  = sample['supporting_facts']['sent_id']\n",
    "\n",
    "    # Add contexts\n",
    "    for cix, sentences in enumerate(context_sentences):\n",
    "        _context = {'title': context_titles[cix], 'text': ''.join(sentences)}\n",
    "        context.append(_context)\n",
    "        #  Add supporting facts\n",
    "        if context_titles[cix] in support_titles:\n",
    "            support.append(_context)\n",
    "            support_indices.append(cix)\n",
    "            \n",
    "    sample = {\n",
    "        'question': sample['question'],\n",
    "        'answer': sample['answer'],\n",
    "        'context': context,\n",
    "        'support': support,\n",
    "        'support_indices': support_indices,\n",
    "    }\n",
    "    return sample"
   ]
  },
  {
   "cell_type": "markdown",
   "id": "51ee3c81-27d3-49cc-a857-94d711950480",
   "metadata": {},
   "source": [
    "Apply the above to our datasets (we'll just use the smaller val split for now), we get:"
   ]
  },
  {
   "cell_type": "code",
   "execution_count": 12,
   "id": "26219199-1087-412f-bd20-e55a5495199b",
   "metadata": {},
   "outputs": [
    {
     "name": "stderr",
     "output_type": "stream",
     "text": [
      "Map: 100%|███████████████████████████████████████████████████████████████████████| 7405/7405 [00:01<00:00, 4543.38 examples/s]\n"
     ]
    }
   ],
   "source": [
    "val_set = raw_datasets['validation']\n",
    "\n",
    "# Convert to question, answer, context, support format\n",
    "val_set   = val_set.map(process_sample, remove_columns=list(val_set.features),\n",
    "                        load_from_cache_file=False)"
   ]
  },
  {
   "cell_type": "code",
   "execution_count": 13,
   "id": "a435657d-520b-4636-9da7-b5b6cc7f3e7b",
   "metadata": {},
   "outputs": [
    {
     "data": {
      "text/plain": [
       "Dataset({\n",
       "    features: ['question', 'answer', 'context', 'support', 'support_indices'],\n",
       "    num_rows: 7405\n",
       "})"
      ]
     },
     "execution_count": 13,
     "metadata": {},
     "output_type": "execute_result"
    }
   ],
   "source": [
    "val_set  # see how features are updated"
   ]
  },
  {
   "cell_type": "code",
   "execution_count": 14,
   "id": "03489e27-c8ce-4fff-a8dc-a2f81d00cc50",
   "metadata": {
    "scrolled": true
   },
   "outputs": [
    {
     "data": {
      "text/plain": [
       "{'question': 'Were Scott Derrickson and Ed Wood of the same nationality?',\n",
       " 'answer': 'yes',\n",
       " 'context': [{'text': \"Ed Wood is a 1994 American biographical period comedy-drama film directed and produced by Tim Burton, and starring Johnny Depp as cult filmmaker Ed Wood. The film concerns the period in Wood's life when he made his best-known films as well as his relationship with actor Bela Lugosi, played by Martin Landau. Sarah Jessica Parker, Patricia Arquette, Jeffrey Jones, Lisa Marie, and Bill Murray are among the supporting cast.\",\n",
       "   'title': 'Ed Wood (film)'},\n",
       "  {'text': 'Scott Derrickson (born July 16, 1966) is an American director, screenwriter and producer. He lives in Los Angeles, California. He is best known for directing horror films such as \"Sinister\", \"The Exorcism of Emily Rose\", and \"Deliver Us From Evil\", as well as the 2016 Marvel Cinematic Universe installment, \"Doctor Strange.\"',\n",
       "   'title': 'Scott Derrickson'},\n",
       "  {'text': 'Woodson is a census-designated place (CDP) in Pulaski County, Arkansas, in the United States. Its population was 403 at the 2010 census. It is part of the Little Rock–North Little Rock–Conway Metropolitan Statistical Area. Woodson and its accompanying Woodson Lake and Wood Hollow are the namesake for Ed Wood Sr., a prominent plantation owner, trader, and businessman at the turn of the 20th century. Woodson is adjacent to the Wood Plantation, the largest of the plantations own by Ed Wood Sr.',\n",
       "   'title': 'Woodson, Arkansas'},\n",
       "  {'text': 'Tyler Bates (born June 5, 1965) is an American musician, music producer, and composer for films, television, and video games. Much of his work is in the action and horror film genres, with films like \"Dawn of the Dead, 300, Sucker Punch,\" and \"John Wick.\" He has collaborated with directors like Zack Snyder, Rob Zombie, Neil Marshall, William Friedkin, Scott Derrickson, and James Gunn. With Gunn, he has scored every one of the director\\'s films; including \"Guardians of the Galaxy\", which became one of the highest grossing domestic movies of 2014, and its 2017 sequel. In addition, he is also the lead guitarist of the American rock band Marilyn Manson, and produced its albums \"The Pale Emperor\" and \"Heaven Upside Down\".',\n",
       "   'title': 'Tyler Bates'},\n",
       "  {'text': 'Edward Davis Wood Jr. (October 10, 1924 – December 10, 1978) was an American filmmaker, actor, writer, producer, and director.',\n",
       "   'title': 'Ed Wood'},\n",
       "  {'text': 'Deliver Us from Evil is a 2014 American supernatural horror film directed by Scott Derrickson and produced by Jerry Bruckheimer. The film is officially based on a 2001 non-fiction book entitled \"Beware the Night\" by Ralph Sarchie and Lisa Collier Cool, and its marketing campaign highlighted that it was \"inspired by actual accounts\". The film stars Eric Bana, Édgar Ramírez, Sean Harris, Olivia Munn, and Joel McHale in the main roles and was released on July 2, 2014.',\n",
       "   'title': 'Deliver Us from Evil (2014 film)'},\n",
       "  {'text': 'Adam Collis is an American filmmaker and actor. He attended the Duke University from 1986 to 1990 and the University of California, Los Angeles from 2007 to 2010. He also studied cinema at the University of Southern California from 1991 to 1997. Collis first work was the assistant director for the Scott Derrickson\\'s short \"Love in the Ruins\" (1995). In 1998, he played \"Crankshaft\" in Eric Koyanagi\\'s \"Hundred Percent\".',\n",
       "   'title': 'Adam Collis'},\n",
       "  {'text': 'Sinister is a 2012 supernatural horror film directed by Scott Derrickson and written by Derrickson and C. Robert Cargill. It stars Ethan Hawke as fictional true-crime writer Ellison Oswalt who discovers a box of home movies in his attic that puts his family in danger.',\n",
       "   'title': 'Sinister (film)'},\n",
       "  {'text': 'Conrad Brooks (born Conrad Biedrzycki on January 3, 1931 in Baltimore, Maryland) is an American actor. He moved to Hollywood, California in 1948 to pursue a career in acting. He got his start in movies appearing in Ed Wood films such as \"Plan 9 from Outer Space\", \"Glen or Glenda\", and \"Jail Bait.\" He took a break from acting during the 1960s and 1970s but due to the ongoing interest in the films of Ed Wood, he reemerged in the 1980s and has become a prolific actor. He also has since gone on to write, produce and direct several films.',\n",
       "   'title': 'Conrad Brooks'},\n",
       "  {'text': 'Doctor Strange is a 2016 American superhero film based on the Marvel Comics character of the same name, produced by Marvel Studios and distributed by Walt Disney Studios Motion Pictures. It is the fourteenth film of the Marvel Cinematic Universe (MCU). The film was directed by Scott Derrickson, who wrote it with Jon Spaihts and C. Robert Cargill, and stars Benedict Cumberbatch as Stephen Strange, along with Chiwetel Ejiofor, Rachel McAdams, Benedict Wong, Michael Stuhlbarg, Benjamin Bratt, Scott Adkins, Mads Mikkelsen, and Tilda Swinton. In \"Doctor Strange\", surgeon Strange learns the mystic arts after a career-ending car accident.',\n",
       "   'title': 'Doctor Strange (2016 film)'}],\n",
       " 'support': [{'text': 'Scott Derrickson (born July 16, 1966) is an American director, screenwriter and producer. He lives in Los Angeles, California. He is best known for directing horror films such as \"Sinister\", \"The Exorcism of Emily Rose\", and \"Deliver Us From Evil\", as well as the 2016 Marvel Cinematic Universe installment, \"Doctor Strange.\"',\n",
       "   'title': 'Scott Derrickson'},\n",
       "  {'text': 'Edward Davis Wood Jr. (October 10, 1924 – December 10, 1978) was an American filmmaker, actor, writer, producer, and director.',\n",
       "   'title': 'Ed Wood'}],\n",
       " 'support_indices': [1, 4]}"
      ]
     },
     "execution_count": 14,
     "metadata": {},
     "output_type": "execute_result"
    }
   ],
   "source": [
    "val_set[0]  # and we have a nicer set of chunks. We'll aim to get this format for other datasets"
   ]
  },
  {
   "cell_type": "markdown",
   "id": "d37a6c87-0192-4e4e-bbe7-10551d0a7e15",
   "metadata": {},
   "source": [
    "### Prompt templating\n",
    "Given those chunks, we'll now convert it into a single string object that can be tokenized and fed to an LLM.\n",
    "\n",
    "We can do the above with the following two functions, taken from `dataloaders.utils.py` (with slight adjustments)"
   ]
  },
  {
   "cell_type": "code",
   "execution_count": 15,
   "id": "21c29b29-1d1a-4936-9dcd-22f81ef8b540",
   "metadata": {},
   "outputs": [],
   "source": [
    "from typing import Callable\n",
    "from functools import partial\n",
    "from os.path import join, isdir\n",
    "from torch.utils.data import Dataset\n",
    "\n",
    "from datasets import load_from_disk  # hf datasets\n",
    "\n",
    "\n",
    "def tokenize_dataset(dataset: Dataset, split_name: str,                      \n",
    "                     tokenize_func: Callable,\n",
    "                     cache_dir: str,\n",
    "                     tokenizer_name: str,\n",
    "                     **tokenize_kwargs: any):\n",
    "    \"\"\"\n",
    "    Apply prompt formatting and tokenize dataset\n",
    "    \"\"\"\n",
    "    save_path = join(cache_dir, f'{tokenizer_name}_{split_name}')  # 'train_anc'\n",
    "    \n",
    "    try:  # If we've already formatted + tokenized, we save and can pull from disk\n",
    "        dataset = load_from_disk(save_path)\n",
    "        print(f'Tokenized dataset loaded from {save_path}!')\n",
    "    \n",
    "    except Exception as e:  # If not found, we'll format + tokenize\n",
    "        print(e)\n",
    "        if not isdir(save_path):  \n",
    "            # For this notebook we won't save anything, so commenting out\n",
    "            # os.makedirs(save_path)\n",
    "            # print(f'-> Created {save_path}')\n",
    "            # print(f'-> Tokenizing {split_name} dataset...')\n",
    "            dataset = dataset.map(partial(tokenize_func, **tokenize_kwargs),\n",
    "                                  remove_columns=list(dataset.features),\n",
    "                                  load_from_cache_file=False)\n",
    "            # dataset.save_to_disk(save_path)\n",
    "            # print(f'Tokenized {split_name} dataset saved to {save_path}!')\n",
    "    return dataset"
   ]
  },
  {
   "cell_type": "code",
   "execution_count": 16,
   "id": "89cfe46b-aa22-4d25-8f63-4f56212e2749",
   "metadata": {},
   "outputs": [],
   "source": [
    "from transformers import AutoTokenizer\n",
    "\n",
    "\n",
    "def tokenize_add_label(sample: dict, tokenizer: AutoTokenizer, \n",
    "                       context_source: str='context', \n",
    "                       include_label: bool=True,\n",
    "                       instruct_tune: bool=False,\n",
    "                       include_support: bool=False,):\n",
    "    \"\"\"\n",
    "    Convert RAG training samples into a single input text and tokenize\n",
    "    \"\"\"\n",
    "    question = sample['question']\n",
    "    if question[-1] != '?': question += '?'  # Add punctuation\n",
    "\n",
    "    # Making the template to finetune our LLMs over. \n",
    "    # -> The additional flavor-text may not be necessary given we're finetuning,\n",
    "    #    but it could be helpful / in general is taken from prior work, so we'll\n",
    "    #    be consistent with that.\n",
    "    template = f\"\"\"Write a high-quality answer for the given question using only the provided context (some of which might be irrelevant).\n",
    "\n",
    "Question: {{question}}\n",
    "\n",
    "Context:\n",
    "{{context}}\n",
    "    \n",
    "Question: {{question}}\n",
    "\n",
    "Answer:\"\"\"\n",
    "    if instruct_tune:  \n",
    "        # Instruction-tuned models often come with specific additional prompt templating,\n",
    "        # e.g., adding [INST] and [/INST] to the beginning and end\n",
    "        template = '[INST] ' + template + ' [/INST]'\n",
    "    \n",
    "    context = []  # Populating our context\n",
    "    for ix, c in enumerate(sample[context_source]):\n",
    "        context.append(f\"Document (Title: {c['title']}) {c['text']}\")\n",
    "    context = '\\n\\n'.join(context)\n",
    "\n",
    "    # Filling in the template\n",
    "    prompt = template.format(context=context, question=sample['question'].capitalize())\n",
    "\n",
    "    # Tokenizing -> note we add the bos and eos tokens manually, and don't let the\n",
    "    # tokenizer do this automatically (via add_special_tokens=False)\n",
    "    prompt = f'{tokenizer.bos_token}{prompt}'\n",
    "    prompt = tokenizer.encode(prompt, add_special_tokens=False)\n",
    "\n",
    "    # For scratchpad, we'll extend our answer with the supporting context\n",
    "    if include_support:  \n",
    "        # First we'll start by getting the model to repeat the question\n",
    "        sample[\"answer\"] = f\"{sample['question'].capitalize()}\\n\\n\" + sample[\"answer\"]\n",
    "\n",
    "        # Then we'll add the supporting chunks\n",
    "        for ix, c in enumerate(sample['support']):  \n",
    "            support = f\"\\nDocument (Title: {c['title']}) {c['text']}\\n\"\n",
    "            support = tokenizer.encode(support, add_special_tokens=False)[1:]\n",
    "\n",
    "            sample[\"answer\"] = f\"Document (Title: {c['title']}) {c['text']}\\n\\n\" + sample[\"answer\"]\n",
    "    \n",
    "    if include_label:  # For training, we use next-token prediction and so include the label in the text\n",
    "        answer = tokenizer.encode(f'{sample[\"answer\"]}{tokenizer.eos_token}', add_special_tokens=False)\n",
    "    else:  # For final testing, we just want to give the context + question to the LLM\n",
    "        answer = []\n",
    "        target = tokenizer.encode(f'{sample[\"answer\"]}{tokenizer.eos_token}', add_special_tokens=False)\n",
    "\n",
    "    input_ids = prompt + answer\n",
    "    attn_mask = [1] * len(input_ids)\n",
    "    \n",
    "    sample =  {\n",
    "        \"input_ids\": input_ids,\n",
    "        \"attention_mask\" : attn_mask,\n",
    "        # we only finetune the model on the answer parts during training\n",
    "        # setting label to -100 bc -100 is the default ignored class with nn.CrossEntropy\n",
    "        \"labels\": [-100] * len(prompt) + answer if include_label else target,\n",
    "    }\n",
    "    return sample"
   ]
  },
  {
   "cell_type": "markdown",
   "id": "17d8ef1d-7213-47e6-9e71-050c7307900b",
   "metadata": {},
   "source": [
    "So if we now apply the above to our dataset, we'll be good to go."
   ]
  },
  {
   "cell_type": "markdown",
   "id": "b903cdf3-f9fc-43e6-9d49-f42c30a648f5",
   "metadata": {},
   "source": [
    "### First get tokenizer"
   ]
  },
  {
   "cell_type": "code",
   "execution_count": 17,
   "id": "0322b35e-f0b0-4854-8b07-20d4be864c4c",
   "metadata": {},
   "outputs": [
    {
     "name": "stderr",
     "output_type": "stream",
     "text": [
      "2024-01-11 10:02:36.352331: I tensorflow/core/platform/cpu_feature_guard.cc:182] This TensorFlow binary is optimized to use available CPU instructions in performance-critical operations.\n",
      "To enable the following instructions: AVX2 FMA, in other operations, rebuild TensorFlow with the appropriate compiler flags.\n",
      "2024-01-11 10:02:37.390728: W tensorflow/compiler/tf2tensorrt/utils/py_utils.cc:38] TF-TRT Warning: Could not find TensorRT\n"
     ]
    }
   ],
   "source": [
    "# First get model tokenizer\n",
    "from dataloaders.utils import get_tokenizer_from_config"
   ]
  },
  {
   "cell_type": "code",
   "execution_count": 18,
   "id": "0fe4a516-cca7-48f4-a5be-7d9968d21211",
   "metadata": {},
   "outputs": [
    {
     "data": {
      "text/plain": [
       "LlamaTokenizerFast(name_or_path='mistralai/Mistral-7B-v0.1', vocab_size=32000, model_max_length=1000000000000000019884624838656, is_fast=True, padding_side='left', truncation_side='right', special_tokens={'bos_token': '<s>', 'eos_token': '</s>', 'unk_token': '<unk>'}, clean_up_tokenization_spaces=False),  added_tokens_decoder={\n",
       "\t0: AddedToken(\"<unk>\", rstrip=False, lstrip=False, single_word=False, normalized=False, special=True),\n",
       "\t1: AddedToken(\"<s>\", rstrip=False, lstrip=False, single_word=False, normalized=False, special=True),\n",
       "\t2: AddedToken(\"</s>\", rstrip=False, lstrip=False, single_word=False, normalized=False, special=True),\n",
       "}"
      ]
     },
     "execution_count": 18,
     "metadata": {},
     "output_type": "execute_result"
    }
   ],
   "source": [
    "tokenizer = get_tokenizer_from_config(dataset_config.pretrained_model_config)\n",
    "tokenizer"
   ]
  },
  {
   "cell_type": "code",
   "execution_count": 19,
   "id": "09874e2a-e046-4759-b218-6722fe67f1bf",
   "metadata": {},
   "outputs": [
    {
     "data": {
      "text/plain": [
       "'hotpot_qa'"
      ]
     },
     "execution_count": 19,
     "metadata": {},
     "output_type": "execute_result"
    }
   ],
   "source": [
    "dataset_config['name']"
   ]
  },
  {
   "cell_type": "markdown",
   "id": "5aa4e2de-8d08-4e0f-8f9d-6195f2e66d32",
   "metadata": {},
   "source": [
    "### Then tokenize -> first standard training dataset (no scratchpad)"
   ]
  },
  {
   "cell_type": "code",
   "execution_count": 20,
   "id": "646f067f-00f4-4900-8afe-81d92e4c3d8d",
   "metadata": {},
   "outputs": [
    {
     "name": "stdout",
     "output_type": "stream",
     "text": [
      "hotpot_qa_Mistral-7B-v0.1\n",
      "Directory /juice/scr/scr110/scr/nlp/data/hotpot-qa-hf/hotpot_qa_Mistral-7B-v0.1_val_lm_anc not found\n"
     ]
    },
    {
     "name": "stderr",
     "output_type": "stream",
     "text": [
      "Map: 100%|████████████████████████████████████████████████████████████████████████| 7405/7405 [00:26<00:00, 282.68 examples/s]\n"
     ]
    }
   ],
   "source": [
    "# Then tokenize\n",
    "name = dataset_config['name']\n",
    "if dataset_config.dataset_config['include_support']:\n",
    "    name += f'-is=1'\n",
    "tokenizer_name = dataset_config['pretrained_model_config']['pretrained_model_name_or_path']\n",
    "tokenizer_name = tokenizer_name.split('/')[-1]  # just get mistral-7b or smth\n",
    "tokenizer_name = f'{name}_{tokenizer_name}'\n",
    "print(tokenizer_name)\n",
    "\n",
    "tokenize_kwargs = {\n",
    "    'tokenizer': tokenizer,\n",
    "    'tokenizer_name': tokenizer_name,\n",
    "    'tokenize_func': tokenize_add_label,\n",
    "    'context_source': 'context',  # for \"gold\" / no-distractor dataset can set this to 'support'\n",
    "    'include_label': True,  # True for training or val splits, and False for testing\n",
    "    'cache_dir': dataset_config.dataset_config['cache_dir'],\n",
    "    'instruct_tune': 'instruct' in tokenizer_name.lower(),  # e.g., Mistral-7B-Instruct-v0.1 vs Mistral-7B-v0.1\n",
    "    'include_support': dataset_config.dataset_config['include_support'],  # True for scratchpad, False otherwise\n",
    "}\n",
    "\n",
    "val_set_lm = tokenize_dataset(val_set, 'val_lm_anc', **tokenize_kwargs)"
   ]
  },
  {
   "cell_type": "markdown",
   "id": "dcc6e704-4264-4a13-9aaf-bc3d1f97890b",
   "metadata": {},
   "source": [
    "### Inspect tokenized dataset"
   ]
  },
  {
   "cell_type": "code",
   "execution_count": 21,
   "id": "afb46078-4e9a-41e5-a6b5-39241adcf6ed",
   "metadata": {},
   "outputs": [
    {
     "data": {
      "text/plain": [
       "Dataset({\n",
       "    features: ['input_ids', 'attention_mask', 'labels'],\n",
       "    num_rows: 7405\n",
       "})"
      ]
     },
     "execution_count": 21,
     "metadata": {},
     "output_type": "execute_result"
    }
   ],
   "source": [
    "val_set_lm  # tokens are input_ids"
   ]
  },
  {
   "cell_type": "code",
   "execution_count": 22,
   "id": "2cf73e54-9147-4688-b662-6ee7eeaf3c4e",
   "metadata": {
    "scrolled": true
   },
   "outputs": [
    {
     "name": "stdout",
     "output_type": "stream",
     "text": [
      "<s> Write a high-quality answer for the given question using only the provided context (some of which might be irrelevant).\n",
      "\n",
      "Question: Were scott derrickson and ed wood of the same nationality?\n",
      "\n",
      "Context:\n",
      "Document (Title: Ed Wood (film)) Ed Wood is a 1994 American biographical period comedy-drama film directed and produced by Tim Burton, and starring Johnny Depp as cult filmmaker Ed Wood. The film concerns the period in Wood's life when he made his best-known films as well as his relationship with actor Bela Lugosi, played by Martin Landau. Sarah Jessica Parker, Patricia Arquette, Jeffrey Jones, Lisa Marie, and Bill Murray are among the supporting cast.\n",
      "\n",
      "Document (Title: Scott Derrickson) Scott Derrickson (born July 16, 1966) is an American director, screenwriter and producer. He lives in Los Angeles, California. He is best known for directing horror films such as \"Sinister\", \"The Exorcism of Emily Rose\", and \"Deliver Us From Evil\", as well as the 2016 Marvel Cinematic Universe installment, \"Doctor Strange.\"\n",
      "\n",
      "Document (Title: Woodson, Arkansas) Woodson is a census-designated place (CDP) in Pulaski County, Arkansas, in the United States. Its population was 403 at the 2010 census. It is part of the Little Rock–North Little Rock–Conway Metropolitan Statistical Area. Woodson and its accompanying Woodson Lake and Wood Hollow are the namesake for Ed Wood Sr., a prominent plantation owner, trader, and businessman at the turn of the 20th century. Woodson is adjacent to the Wood Plantation, the largest of the plantations own by Ed Wood Sr.\n",
      "\n",
      "Document (Title: Tyler Bates) Tyler Bates (born June 5, 1965) is an American musician, music producer, and composer for films, television, and video games. Much of his work is in the action and horror film genres, with films like \"Dawn of the Dead, 300, Sucker Punch,\" and \"John Wick.\" He has collaborated with directors like Zack Snyder, Rob Zombie, Neil Marshall, William Friedkin, Scott Derrickson, and James Gunn. With Gunn, he has scored every one of the director's films; including \"Guardians of the Galaxy\", which became one of the highest grossing domestic movies of 2014, and its 2017 sequel. In addition, he is also the lead guitarist of the American rock band Marilyn Manson, and produced its albums \"The Pale Emperor\" and \"Heaven Upside Down\".\n",
      "\n",
      "Document (Title: Ed Wood) Edward Davis Wood Jr. (October 10, 1924 – December 10, 1978) was an American filmmaker, actor, writer, producer, and director.\n",
      "\n",
      "Document (Title: Deliver Us from Evil (2014 film)) Deliver Us from Evil is a 2014 American supernatural horror film directed by Scott Derrickson and produced by Jerry Bruckheimer. The film is officially based on a 2001 non-fiction book entitled \"Beware the Night\" by Ralph Sarchie and Lisa Collier Cool, and its marketing campaign highlighted that it was \"inspired by actual accounts\". The film stars Eric Bana, Édgar Ramírez, Sean Harris, Olivia Munn, and Joel McHale in the main roles and was released on July 2, 2014.\n",
      "\n",
      "Document (Title: Adam Collis) Adam Collis is an American filmmaker and actor. He attended the Duke University from 1986 to 1990 and the University of California, Los Angeles from 2007 to 2010. He also studied cinema at the University of Southern California from 1991 to 1997. Collis first work was the assistant director for the Scott Derrickson's short \"Love in the Ruins\" (1995). In 1998, he played \"Crankshaft\" in Eric Koyanagi's \"Hundred Percent\".\n",
      "\n",
      "Document (Title: Sinister (film)) Sinister is a 2012 supernatural horror film directed by Scott Derrickson and written by Derrickson and C. Robert Cargill. It stars Ethan Hawke as fictional true-crime writer Ellison Oswalt who discovers a box of home movies in his attic that puts his family in danger.\n",
      "\n",
      "Document (Title: Conrad Brooks) Conrad Brooks (born Conrad Biedrzycki on January 3, 1931 in Baltimore, Maryland) is an American actor. He moved to Hollywood, California in 1948 to pursue a career in acting. He got his start in movies appearing in Ed Wood films such as \"Plan 9 from Outer Space\", \"Glen or Glenda\", and \"Jail Bait.\" He took a break from acting during the 1960s and 1970s but due to the ongoing interest in the films of Ed Wood, he reemerged in the 1980s and has become a prolific actor. He also has since gone on to write, produce and direct several films.\n",
      "\n",
      "Document (Title: Doctor Strange (2016 film)) Doctor Strange is a 2016 American superhero film based on the Marvel Comics character of the same name, produced by Marvel Studios and distributed by Walt Disney Studios Motion Pictures. It is the fourteenth film of the Marvel Cinematic Universe (MCU). The film was directed by Scott Derrickson, who wrote it with Jon Spaihts and C. Robert Cargill, and stars Benedict Cumberbatch as Stephen Strange, along with Chiwetel Ejiofor, Rachel McAdams, Benedict Wong, Michael Stuhlbarg, Benjamin Bratt, Scott Adkins, Mads Mikkelsen, and Tilda Swinton. In \"Doctor Strange\", surgeon Strange learns the mystic arts after a career-ending car accident.\n",
      "    \n",
      "Question: Were scott derrickson and ed wood of the same nationality?\n",
      "\n",
      "Answer: yes</s>\n"
     ]
    }
   ],
   "source": [
    "# View the sample\n",
    "print(tokenizer.decode(val_set_lm[0]['input_ids']))"
   ]
  },
  {
   "cell_type": "markdown",
   "id": "6cb188ed-6e0f-4505-ae25-cc8f748b8522",
   "metadata": {},
   "source": [
    "### Now tokenize scratchpad training dataset"
   ]
  },
  {
   "cell_type": "code",
   "execution_count": 23,
   "id": "a9167900-f5aa-408e-8ad9-603422a623e7",
   "metadata": {},
   "outputs": [
    {
     "name": "stdout",
     "output_type": "stream",
     "text": [
      "hotpot_qa_Mistral-7B-v0.1\n",
      "Directory /juice/scr/scr110/scr/nlp/data/hotpot-qa-hf/hotpot_qa_Mistral-7B-v0.1_val_scratchpad_lm not found\n"
     ]
    },
    {
     "name": "stderr",
     "output_type": "stream",
     "text": [
      "Map: 100%|████████████████████████████████████████████████████████████████████████| 7405/7405 [00:24<00:00, 304.26 examples/s]\n"
     ]
    }
   ],
   "source": [
    "# Then tokenize\n",
    "name = dataset_config['name']\n",
    "if dataset_config.dataset_config['include_support']:\n",
    "    name += f'-is=1'\n",
    "tokenizer_name = dataset_config['pretrained_model_config']['pretrained_model_name_or_path']\n",
    "tokenizer_name = tokenizer_name.split('/')[-1]  # just get mistral-7b or smth\n",
    "tokenizer_name = f'{name}_{tokenizer_name}'\n",
    "print(tokenizer_name)\n",
    "\n",
    "tokenize_kwargs = {\n",
    "    'tokenizer': tokenizer,\n",
    "    'tokenizer_name': tokenizer_name,\n",
    "    'tokenize_func': tokenize_add_label,\n",
    "    'context_source': 'context',  # for \"gold\" / no-distractor dataset can set this to 'support'\n",
    "    'include_label': True,  # True for training or val splits, and False for testing\n",
    "    'cache_dir': dataset_config.dataset_config['cache_dir'],\n",
    "    'instruct_tune': 'instruct' in tokenizer_name.lower(),  # e.g., Mistral-7B-Instruct-v0.1 vs Mistral-7B-v0.1\n",
    "    'include_support': True,  # True for scratchpad, False otherwise\n",
    "}\n",
    "\n",
    "val_set_scratchpad_lm = tokenize_dataset(val_set, 'val_scratchpad_lm', **tokenize_kwargs)"
   ]
  },
  {
   "cell_type": "code",
   "execution_count": 24,
   "id": "b7ef9915-9f77-4fb1-94b2-163d534f444a",
   "metadata": {
    "scrolled": true
   },
   "outputs": [
    {
     "name": "stdout",
     "output_type": "stream",
     "text": [
      "<s> Write a high-quality answer for the given question using only the provided context (some of which might be irrelevant).\n",
      "\n",
      "Question: Were scott derrickson and ed wood of the same nationality?\n",
      "\n",
      "Context:\n",
      "Document (Title: Ed Wood (film)) Ed Wood is a 1994 American biographical period comedy-drama film directed and produced by Tim Burton, and starring Johnny Depp as cult filmmaker Ed Wood. The film concerns the period in Wood's life when he made his best-known films as well as his relationship with actor Bela Lugosi, played by Martin Landau. Sarah Jessica Parker, Patricia Arquette, Jeffrey Jones, Lisa Marie, and Bill Murray are among the supporting cast.\n",
      "\n",
      "Document (Title: Scott Derrickson) Scott Derrickson (born July 16, 1966) is an American director, screenwriter and producer. He lives in Los Angeles, California. He is best known for directing horror films such as \"Sinister\", \"The Exorcism of Emily Rose\", and \"Deliver Us From Evil\", as well as the 2016 Marvel Cinematic Universe installment, \"Doctor Strange.\"\n",
      "\n",
      "Document (Title: Woodson, Arkansas) Woodson is a census-designated place (CDP) in Pulaski County, Arkansas, in the United States. Its population was 403 at the 2010 census. It is part of the Little Rock–North Little Rock–Conway Metropolitan Statistical Area. Woodson and its accompanying Woodson Lake and Wood Hollow are the namesake for Ed Wood Sr., a prominent plantation owner, trader, and businessman at the turn of the 20th century. Woodson is adjacent to the Wood Plantation, the largest of the plantations own by Ed Wood Sr.\n",
      "\n",
      "Document (Title: Tyler Bates) Tyler Bates (born June 5, 1965) is an American musician, music producer, and composer for films, television, and video games. Much of his work is in the action and horror film genres, with films like \"Dawn of the Dead, 300, Sucker Punch,\" and \"John Wick.\" He has collaborated with directors like Zack Snyder, Rob Zombie, Neil Marshall, William Friedkin, Scott Derrickson, and James Gunn. With Gunn, he has scored every one of the director's films; including \"Guardians of the Galaxy\", which became one of the highest grossing domestic movies of 2014, and its 2017 sequel. In addition, he is also the lead guitarist of the American rock band Marilyn Manson, and produced its albums \"The Pale Emperor\" and \"Heaven Upside Down\".\n",
      "\n",
      "Document (Title: Ed Wood) Edward Davis Wood Jr. (October 10, 1924 – December 10, 1978) was an American filmmaker, actor, writer, producer, and director.\n",
      "\n",
      "Document (Title: Deliver Us from Evil (2014 film)) Deliver Us from Evil is a 2014 American supernatural horror film directed by Scott Derrickson and produced by Jerry Bruckheimer. The film is officially based on a 2001 non-fiction book entitled \"Beware the Night\" by Ralph Sarchie and Lisa Collier Cool, and its marketing campaign highlighted that it was \"inspired by actual accounts\". The film stars Eric Bana, Édgar Ramírez, Sean Harris, Olivia Munn, and Joel McHale in the main roles and was released on July 2, 2014.\n",
      "\n",
      "Document (Title: Adam Collis) Adam Collis is an American filmmaker and actor. He attended the Duke University from 1986 to 1990 and the University of California, Los Angeles from 2007 to 2010. He also studied cinema at the University of Southern California from 1991 to 1997. Collis first work was the assistant director for the Scott Derrickson's short \"Love in the Ruins\" (1995). In 1998, he played \"Crankshaft\" in Eric Koyanagi's \"Hundred Percent\".\n",
      "\n",
      "Document (Title: Sinister (film)) Sinister is a 2012 supernatural horror film directed by Scott Derrickson and written by Derrickson and C. Robert Cargill. It stars Ethan Hawke as fictional true-crime writer Ellison Oswalt who discovers a box of home movies in his attic that puts his family in danger.\n",
      "\n",
      "Document (Title: Conrad Brooks) Conrad Brooks (born Conrad Biedrzycki on January 3, 1931 in Baltimore, Maryland) is an American actor. He moved to Hollywood, California in 1948 to pursue a career in acting. He got his start in movies appearing in Ed Wood films such as \"Plan 9 from Outer Space\", \"Glen or Glenda\", and \"Jail Bait.\" He took a break from acting during the 1960s and 1970s but due to the ongoing interest in the films of Ed Wood, he reemerged in the 1980s and has become a prolific actor. He also has since gone on to write, produce and direct several films.\n",
      "\n",
      "Document (Title: Doctor Strange (2016 film)) Doctor Strange is a 2016 American superhero film based on the Marvel Comics character of the same name, produced by Marvel Studios and distributed by Walt Disney Studios Motion Pictures. It is the fourteenth film of the Marvel Cinematic Universe (MCU). The film was directed by Scott Derrickson, who wrote it with Jon Spaihts and C. Robert Cargill, and stars Benedict Cumberbatch as Stephen Strange, along with Chiwetel Ejiofor, Rachel McAdams, Benedict Wong, Michael Stuhlbarg, Benjamin Bratt, Scott Adkins, Mads Mikkelsen, and Tilda Swinton. In \"Doctor Strange\", surgeon Strange learns the mystic arts after a career-ending car accident.\n",
      "    \n",
      "Question: Were scott derrickson and ed wood of the same nationality?\n",
      "\n",
      "Answer: Document (Title: Ed Wood) Edward Davis Wood Jr. (October 10, 1924 – December 10, 1978) was an American filmmaker, actor, writer, producer, and director.\n",
      "\n",
      "Document (Title: Scott Derrickson) Scott Derrickson (born July 16, 1966) is an American director, screenwriter and producer. He lives in Los Angeles, California. He is best known for directing horror films such as \"Sinister\", \"The Exorcism of Emily Rose\", and \"Deliver Us From Evil\", as well as the 2016 Marvel Cinematic Universe installment, \"Doctor Strange.\"\n",
      "\n",
      "Were scott derrickson and ed wood of the same nationality?\n",
      "\n",
      "yes</s>\n"
     ]
    }
   ],
   "source": [
    "# View the sample -> note the additional chunks at the end\n",
    "print(tokenizer.decode(val_set_scratchpad_lm[0]['input_ids']))"
   ]
  },
  {
   "cell_type": "markdown",
   "id": "378a7283-65e6-43b5-8c75-3b79deecb1c0",
   "metadata": {},
   "source": [
    "### Finally tokenize testing dataset \n",
    "\n",
    "Note how there will be no answer in the sample"
   ]
  },
  {
   "cell_type": "code",
   "execution_count": 25,
   "id": "1f9c4eed-d6f3-47e8-8348-fa9dfad15308",
   "metadata": {},
   "outputs": [
    {
     "name": "stdout",
     "output_type": "stream",
     "text": [
      "hotpot_qa_Mistral-7B-v0.1\n",
      "Directory /juice/scr/scr110/scr/nlp/data/hotpot-qa-hf/hotpot_qa_Mistral-7B-v0.1_test not found\n"
     ]
    },
    {
     "name": "stderr",
     "output_type": "stream",
     "text": [
      "Map: 100%|████████████████████████████████████████████████████████████████████████| 7405/7405 [00:17<00:00, 426.16 examples/s]\n"
     ]
    }
   ],
   "source": [
    "# Then tokenize\n",
    "name = dataset_config['name']\n",
    "if dataset_config.dataset_config['include_support']:\n",
    "    name += f'-is=1'\n",
    "tokenizer_name = dataset_config['pretrained_model_config']['pretrained_model_name_or_path']\n",
    "tokenizer_name = tokenizer_name.split('/')[-1]  # just get mistral-7b or smth\n",
    "tokenizer_name = f'{name}_{tokenizer_name}'\n",
    "print(tokenizer_name)\n",
    "\n",
    "tokenize_kwargs = {\n",
    "    'tokenizer': tokenizer,\n",
    "    'tokenizer_name': tokenizer_name,\n",
    "    'tokenize_func': tokenize_add_label,\n",
    "    'context_source': 'context',  # for \"gold\" / no-distractor dataset can set this to 'support'\n",
    "    'include_label': False,  # True for training or val splits, and False for testing\n",
    "    'cache_dir': dataset_config.dataset_config['cache_dir'],\n",
    "    'instruct_tune': 'instruct' in tokenizer_name.lower(),  # e.g., Mistral-7B-Instruct-v0.1 vs Mistral-7B-v0.1\n",
    "    'include_support': False,  # True for scratchpad, False otherwise\n",
    "}\n",
    "\n",
    "test_set = tokenize_dataset(val_set, 'test', **tokenize_kwargs)"
   ]
  },
  {
   "cell_type": "code",
   "execution_count": 26,
   "id": "83d4f7f4-0795-4efe-90f1-cdae7022ddc2",
   "metadata": {},
   "outputs": [
    {
     "name": "stdout",
     "output_type": "stream",
     "text": [
      "<s> Write a high-quality answer for the given question using only the provided context (some of which might be irrelevant).\n",
      "\n",
      "Question: Were scott derrickson and ed wood of the same nationality?\n",
      "\n",
      "Context:\n",
      "Document (Title: Ed Wood (film)) Ed Wood is a 1994 American biographical period comedy-drama film directed and produced by Tim Burton, and starring Johnny Depp as cult filmmaker Ed Wood. The film concerns the period in Wood's life when he made his best-known films as well as his relationship with actor Bela Lugosi, played by Martin Landau. Sarah Jessica Parker, Patricia Arquette, Jeffrey Jones, Lisa Marie, and Bill Murray are among the supporting cast.\n",
      "\n",
      "Document (Title: Scott Derrickson) Scott Derrickson (born July 16, 1966) is an American director, screenwriter and producer. He lives in Los Angeles, California. He is best known for directing horror films such as \"Sinister\", \"The Exorcism of Emily Rose\", and \"Deliver Us From Evil\", as well as the 2016 Marvel Cinematic Universe installment, \"Doctor Strange.\"\n",
      "\n",
      "Document (Title: Woodson, Arkansas) Woodson is a census-designated place (CDP) in Pulaski County, Arkansas, in the United States. Its population was 403 at the 2010 census. It is part of the Little Rock–North Little Rock–Conway Metropolitan Statistical Area. Woodson and its accompanying Woodson Lake and Wood Hollow are the namesake for Ed Wood Sr., a prominent plantation owner, trader, and businessman at the turn of the 20th century. Woodson is adjacent to the Wood Plantation, the largest of the plantations own by Ed Wood Sr.\n",
      "\n",
      "Document (Title: Tyler Bates) Tyler Bates (born June 5, 1965) is an American musician, music producer, and composer for films, television, and video games. Much of his work is in the action and horror film genres, with films like \"Dawn of the Dead, 300, Sucker Punch,\" and \"John Wick.\" He has collaborated with directors like Zack Snyder, Rob Zombie, Neil Marshall, William Friedkin, Scott Derrickson, and James Gunn. With Gunn, he has scored every one of the director's films; including \"Guardians of the Galaxy\", which became one of the highest grossing domestic movies of 2014, and its 2017 sequel. In addition, he is also the lead guitarist of the American rock band Marilyn Manson, and produced its albums \"The Pale Emperor\" and \"Heaven Upside Down\".\n",
      "\n",
      "Document (Title: Ed Wood) Edward Davis Wood Jr. (October 10, 1924 – December 10, 1978) was an American filmmaker, actor, writer, producer, and director.\n",
      "\n",
      "Document (Title: Deliver Us from Evil (2014 film)) Deliver Us from Evil is a 2014 American supernatural horror film directed by Scott Derrickson and produced by Jerry Bruckheimer. The film is officially based on a 2001 non-fiction book entitled \"Beware the Night\" by Ralph Sarchie and Lisa Collier Cool, and its marketing campaign highlighted that it was \"inspired by actual accounts\". The film stars Eric Bana, Édgar Ramírez, Sean Harris, Olivia Munn, and Joel McHale in the main roles and was released on July 2, 2014.\n",
      "\n",
      "Document (Title: Adam Collis) Adam Collis is an American filmmaker and actor. He attended the Duke University from 1986 to 1990 and the University of California, Los Angeles from 2007 to 2010. He also studied cinema at the University of Southern California from 1991 to 1997. Collis first work was the assistant director for the Scott Derrickson's short \"Love in the Ruins\" (1995). In 1998, he played \"Crankshaft\" in Eric Koyanagi's \"Hundred Percent\".\n",
      "\n",
      "Document (Title: Sinister (film)) Sinister is a 2012 supernatural horror film directed by Scott Derrickson and written by Derrickson and C. Robert Cargill. It stars Ethan Hawke as fictional true-crime writer Ellison Oswalt who discovers a box of home movies in his attic that puts his family in danger.\n",
      "\n",
      "Document (Title: Conrad Brooks) Conrad Brooks (born Conrad Biedrzycki on January 3, 1931 in Baltimore, Maryland) is an American actor. He moved to Hollywood, California in 1948 to pursue a career in acting. He got his start in movies appearing in Ed Wood films such as \"Plan 9 from Outer Space\", \"Glen or Glenda\", and \"Jail Bait.\" He took a break from acting during the 1960s and 1970s but due to the ongoing interest in the films of Ed Wood, he reemerged in the 1980s and has become a prolific actor. He also has since gone on to write, produce and direct several films.\n",
      "\n",
      "Document (Title: Doctor Strange (2016 film)) Doctor Strange is a 2016 American superhero film based on the Marvel Comics character of the same name, produced by Marvel Studios and distributed by Walt Disney Studios Motion Pictures. It is the fourteenth film of the Marvel Cinematic Universe (MCU). The film was directed by Scott Derrickson, who wrote it with Jon Spaihts and C. Robert Cargill, and stars Benedict Cumberbatch as Stephen Strange, along with Chiwetel Ejiofor, Rachel McAdams, Benedict Wong, Michael Stuhlbarg, Benjamin Bratt, Scott Adkins, Mads Mikkelsen, and Tilda Swinton. In \"Doctor Strange\", surgeon Strange learns the mystic arts after a career-ending car accident.\n",
      "    \n",
      "Question: Were scott derrickson and ed wood of the same nationality?\n",
      "\n",
      "Answer:\n"
     ]
    }
   ],
   "source": [
    "# View the sample -> note no answer at the end\n",
    "print(tokenizer.decode(test_set[0]['input_ids']))"
   ]
  },
  {
   "cell_type": "code",
   "execution_count": null,
   "id": "e56f2bf0-1464-4660-89fa-b87fe0a04094",
   "metadata": {},
   "outputs": [],
   "source": []
  }
 ],
 "metadata": {
  "kernelspec": {
   "display_name": "Python 3 (ipykernel)",
   "language": "python",
   "name": "python3"
  },
  "language_info": {
   "codemirror_mode": {
    "name": "ipython",
    "version": 3
   },
   "file_extension": ".py",
   "mimetype": "text/x-python",
   "name": "python",
   "nbconvert_exporter": "python",
   "pygments_lexer": "ipython3",
   "version": "3.10.11"
  }
 },
 "nbformat": 4,
 "nbformat_minor": 5
}
